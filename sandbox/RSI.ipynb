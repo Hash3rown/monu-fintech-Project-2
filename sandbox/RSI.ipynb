{
 "metadata": {
  "language_info": {
   "codemirror_mode": {
    "name": "ipython",
    "version": 3
   },
   "file_extension": ".py",
   "mimetype": "text/x-python",
   "name": "python",
   "nbconvert_exporter": "python",
   "pygments_lexer": "ipython3",
   "version": "3.8.5"
  },
  "orig_nbformat": 2,
  "kernelspec": {
   "name": "python385jvsc74a57bd0a4c2d4394c20a6338e948666a1835b56c990d542587f07099d56a8ef0a3c7e01",
   "display_name": "Python 3.8.5 64-bit ('base': conda)"
  }
 },
 "nbformat": 4,
 "nbformat_minor": 2,
 "cells": [
  {
   "cell_type": "code",
   "execution_count": 2,
   "metadata": {},
   "outputs": [
    {
     "output_type": "error",
     "ename": "ModuleNotFoundError",
     "evalue": "No module named 'pandas_datareader'",
     "traceback": [
      "\u001b[0;31m---------------------------------------------------------------------------\u001b[0m",
      "\u001b[0;31mModuleNotFoundError\u001b[0m                       Traceback (most recent call last)",
      "\u001b[0;32m<ipython-input-2-ea3b94107764>\u001b[0m in \u001b[0;36m<module>\u001b[0;34m\u001b[0m\n\u001b[1;32m      1\u001b[0m \u001b[0;32mimport\u001b[0m \u001b[0mpandas\u001b[0m\u001b[0;34m\u001b[0m\u001b[0;34m\u001b[0m\u001b[0m\n\u001b[0;32m----> 2\u001b[0;31m \u001b[0;32mimport\u001b[0m \u001b[0mpandas_datareader\u001b[0m\u001b[0;34m.\u001b[0m\u001b[0mdata\u001b[0m \u001b[0;32mas\u001b[0m \u001b[0mweb\u001b[0m\u001b[0;34m\u001b[0m\u001b[0;34m\u001b[0m\u001b[0m\n\u001b[0m\u001b[1;32m      3\u001b[0m \u001b[0;32mimport\u001b[0m \u001b[0mdatetime\u001b[0m\u001b[0;34m\u001b[0m\u001b[0;34m\u001b[0m\u001b[0m\n\u001b[1;32m      4\u001b[0m \u001b[0;32mimport\u001b[0m \u001b[0mmatplotlib\u001b[0m\u001b[0;34m.\u001b[0m\u001b[0mpyplot\u001b[0m \u001b[0;32mas\u001b[0m \u001b[0mplt\u001b[0m\u001b[0;34m\u001b[0m\u001b[0;34m\u001b[0m\u001b[0m\n\u001b[1;32m      5\u001b[0m \u001b[0;34m\u001b[0m\u001b[0m\n",
      "\u001b[0;31mModuleNotFoundError\u001b[0m: No module named 'pandas_datareader'"
     ]
    }
   ],
   "source": [
    "import pandas\n",
    "import pandas_datareader.data as web\n",
    "import datetime\n",
    "import matplotlib.pyplot as plt\n",
    "\n",
    "# Window length for moving average\n",
    "window_length = 14\n",
    "\n",
    "# Dates\n",
    "start = '2010-01-01'\n",
    "end = '2013-01-27'\n",
    "\n",
    "# Get data\n",
    "data = web.DataReader('AAPL', 'yahoo', start, end)\n",
    "# Get just the adjusted close\n",
    "close = data['Adj Close']\n",
    "# Get the difference in price from previous step\n",
    "delta = close.diff()\n",
    "# Get rid of the first row, which is NaN since it did not have a previous \n",
    "# row to calculate the differences\n",
    "delta = delta[1:] \n",
    "\n",
    "# Make the positive gains (up) and negative gains (down) Series\n",
    "up, down = delta.clip(lower=0), delta.clip(upper=0)\n",
    "\n",
    "# Calculate the EWMA\n",
    "roll_up1 = up.ewm(span=window_length).mean()\n",
    "roll_down1 = down.abs().ewm(span=window_length).mean()\n",
    "\n",
    "# Calculate the RSI based on EWMA\n",
    "RS1 = roll_up1 / roll_down1\n",
    "RSI1 = 100.0 - (100.0 / (1.0 + RS1))\n",
    "\n",
    "# Calculate the SMA\n",
    "roll_up2 = up.rolling(window_length).mean()\n",
    "roll_down2 = down.abs().rolling(window_length).mean()\n",
    "\n",
    "# Calculate the RSI based on SMA\n",
    "RS2 = roll_up2 / roll_down2\n",
    "RSI2 = 100.0 - (100.0 / (1.0 + RS2))\n",
    "\n",
    "# Compare graphically\n",
    "plt.figure(figsize=(8, 6))\n",
    "RSI1.plot()\n",
    "RSI2.plot()\n",
    "plt.legend(['RSI via EWMA', 'RSI via SMA'])\n",
    "plt.show()"
   ]
  },
  {
   "cell_type": "code",
   "execution_count": null,
   "metadata": {},
   "outputs": [],
   "source": []
  }
 ]
}