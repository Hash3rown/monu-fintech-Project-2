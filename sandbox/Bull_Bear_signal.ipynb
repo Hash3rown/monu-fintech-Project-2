{
 "cells": [
  {
   "cell_type": "markdown",
   "metadata": {},
   "source": [
    " # Dual Moving Average Crossover Trading Signal"
   ]
  },
  {
   "cell_type": "markdown",
   "metadata": {},
   "source": [
    " ---"
   ]
  },
  {
   "cell_type": "markdown",
   "metadata": {},
   "source": [
    " ### Import Libraries and Dependencies"
   ]
  },
  {
   "cell_type": "code",
   "execution_count": 4,
   "metadata": {},
   "outputs": [],
   "source": [
    "# Import libraries and dependencies\n",
    "import numpy as np\n",
    "import pandas as pd\n",
    "import hvplot.pandas\n",
    "from pathlib import Path"
   ]
  },
  {
   "cell_type": "code",
   "execution_count": null,
   "metadata": {},
   "outputs": [],
   "source": []
  },
  {
   "cell_type": "markdown",
   "metadata": {},
   "source": [
    " ### Read source data"
   ]
  },
  {
   "cell_type": "code",
   "execution_count": 2,
   "metadata": {},
   "outputs": [],
   "source": [
    "#API get request here\n",
    "\n",
    "# Below assumes a dataframe of price information includes \"date\", and \"close\" columns.\n",
    "# call create_signal_df(<your_dataframe>)\n",
    "# returns a section of the resulting signals_df"
   ]
  },
  {
   "cell_type": "markdown",
   "metadata": {},
   "source": [
    " ### Generate a Dual Moving Average Crossover Trading Signal"
   ]
  },
  {
   "cell_type": "code",
   "execution_count": 2,
   "metadata": {},
   "outputs": [],
   "source": [
    "def create_signal_df(input_df):\n",
    "    # Grab just the `date` and `close` from the IEX dataset\n",
    "    signals_df = input_df.loc[:, [\"date\", \"close\"]].copy()\n",
    "\n",
    "    # Set the short window and long windows\n",
    "    short_window = 50\n",
    "    long_window = 200\n",
    "\n",
    "    # Set the `date` column as the index\n",
    "    signals_df = signals_df.set_index(\"date\", drop=True)\n",
    "\n",
    "    # Generate the short and long moving averages (50 and 200 days, respectively)\n",
    "    signals_df[\"SMA50\"] = signals_df[\"close\"].rolling(window=short_window).mean()\n",
    "    signals_df[\"SMA200\"] = signals_df[\"close\"].rolling(window=long_window).mean()\n",
    "    signals_df[\"Signal\"] = 0.0\n",
    "\n",
    "    # Generate the trading signal 0 or 1,\n",
    "    # where 0 is when the SMA50 is under the SMA200 (Bear Market), and\n",
    "    # where 1 is when the SMA50 is higher (or crosses over) the SMA200 (Bull Market)\n",
    "    signals_df[\"Signal\"][short_window:] = np.where(\n",
    "        signals_df[\"SMA50\"][short_window:] > signals_df[\"SMA200\"][short_window:], 1.0, 0.0\n",
    "    )\n",
    "\n",
    "    # if a column \"bull/bear\" is required the following can be used and adjusted to suit\n",
    "    # Calculate the points in time at which a position should be taken, 1 or -1\n",
    "    # signals_df[\"Bull/Bear\"] = signals_df[\"Signal\"].diff()\n",
    "\n",
    "    return signals_df[200:250]"
   ]
  },
  {
   "cell_type": "markdown",
   "metadata": {},
   "source": [
    " ### Plot sentiment change using Dual Moving Average Crossover"
   ]
  },
  {
   "cell_type": "code",
   "execution_count": 3,
   "metadata": {},
   "outputs": [
    {
     "output_type": "error",
     "ename": "NameError",
     "evalue": "name 'signals_df' is not defined",
     "traceback": [
      "\u001b[0;31m---------------------------------------------------------------------------\u001b[0m",
      "\u001b[0;31mNameError\u001b[0m                                 Traceback (most recent call last)",
      "\u001b[0;32m<ipython-input-3-a1e34d4c60b9>\u001b[0m in \u001b[0;36m<module>\u001b[0;34m\u001b[0m\n\u001b[1;32m      1\u001b[0m \u001b[0;31m# Visualize Bearish sentiment relative to close price\u001b[0m\u001b[0;34m\u001b[0m\u001b[0;34m\u001b[0m\u001b[0;34m\u001b[0m\u001b[0m\n\u001b[0;32m----> 2\u001b[0;31m exit = signals_df[signals_df['Entry/Exit'] == -1.0]['close'].hvplot.scatter(\n\u001b[0m\u001b[1;32m      3\u001b[0m     \u001b[0mcolor\u001b[0m\u001b[0;34m=\u001b[0m\u001b[0;34m'red'\u001b[0m\u001b[0;34m,\u001b[0m\u001b[0;34m\u001b[0m\u001b[0;34m\u001b[0m\u001b[0m\n\u001b[1;32m      4\u001b[0m     \u001b[0mmarker\u001b[0m\u001b[0;34m=\u001b[0m\u001b[0;34m'v'\u001b[0m\u001b[0;34m,\u001b[0m\u001b[0;34m\u001b[0m\u001b[0;34m\u001b[0m\u001b[0m\n\u001b[1;32m      5\u001b[0m     \u001b[0msize\u001b[0m\u001b[0;34m=\u001b[0m\u001b[0;36m200\u001b[0m\u001b[0;34m,\u001b[0m\u001b[0;34m\u001b[0m\u001b[0;34m\u001b[0m\u001b[0m\n",
      "\u001b[0;31mNameError\u001b[0m: name 'signals_df' is not defined"
     ]
    }
   ],
   "source": [
    "# Visualize Bearish sentiment relative to close price\n",
    "exit = signals_df[signals_df['Entry/Exit'] == -1.0]['close'].hvplot.scatter(\n",
    "    color='red',\n",
    "    marker='v',\n",
    "    size=200,\n",
    "    legend=False,\n",
    "    ylabel='Price in $',\n",
    "    width=1000,\n",
    "    height=400\n",
    ")\n",
    "\n",
    "# Visualize Bullish sentiment change relative to close price\n",
    "entry = signals_df[signals_df['Entry/Exit'] == 1.0]['close'].hvplot.scatter(\n",
    "    color='green',\n",
    "    marker='^',\n",
    "    size=200,\n",
    "    legend=False,\n",
    "    ylabel='Price in $',\n",
    "    width=1000,\n",
    "    height=400\n",
    ")\n",
    "\n",
    "# Visualize close price for the investment\n",
    "security_close = signals_df[['close']].hvplot(\n",
    "    line_color='lightgray',\n",
    "    ylabel='Price in $',\n",
    "    width=1000,\n",
    "    height=400\n",
    ")\n",
    "\n",
    "# Visualize moving averages\n",
    "moving_avgs = signals_df[['SMA50', 'SMA100']].hvplot(\n",
    "    ylabel='Price in $',\n",
    "    width=1000,\n",
    "    height=400\n",
    ")\n",
    "\n",
    "# Overlay plots\n",
    "entry_exit_plot = security_close * moving_avgs * entry * exit\n",
    "entry_exit_plot.opts(xaxis=None)"
   ]
  },
  {
   "cell_type": "code",
   "execution_count": null,
   "metadata": {},
   "outputs": [],
   "source": []
  }
 ],
 "metadata": {
  "file_extension": ".py",
  "kernelspec": {
   "name": "python377jvsc74a57bd0ed7e3b8e8d744f9735f8be44af6befb38628c66b99f3c1a8df950c1f5fa12a5a",
   "display_name": "Python 3.7.7 64-bit ('pyv': conda)"
  },
  "language_info": {
   "codemirror_mode": {
    "name": "ipython",
    "version": 3
   },
   "file_extension": ".py",
   "mimetype": "text/x-python",
   "name": "python",
   "nbconvert_exporter": "python",
   "pygments_lexer": "ipython3",
   "version": "3.7.7"
  },
  "mimetype": "text/x-python",
  "name": "python",
  "npconvert_exporter": "python",
  "pygments_lexer": "ipython3",
  "version": 3
 },
 "nbformat": 4,
 "nbformat_minor": 4
}