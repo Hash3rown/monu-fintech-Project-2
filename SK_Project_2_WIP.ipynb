{
 "cells": [
  {
   "cell_type": "markdown",
   "metadata": {},
   "source": [
    "### Initial Set-Up"
   ]
  },
  {
   "cell_type": "code",
   "execution_count": 16,
   "metadata": {},
   "outputs": [],
   "source": [
    "import os\n",
    "from pathlib import Path\n",
    "import alpaca_trade_api as tradeapi\n",
    "import pandas as pd\n",
    "import numpy as np\n",
    "import datetime\n",
    "import time\n",
    "from dotenv import load_dotenv\n"
   ]
  },
  {
   "cell_type": "code",
   "execution_count": 17,
   "metadata": {},
   "outputs": [
    {
     "output_type": "execute_result",
     "data": {
      "text/plain": [
       "True"
      ]
     },
     "metadata": {},
     "execution_count": 17
    }
   ],
   "source": [
    "# Load .env enviroment variables\n",
    "load_dotenv()"
   ]
  },
  {
   "cell_type": "code",
   "execution_count": 18,
   "metadata": {},
   "outputs": [
    {
     "output_type": "stream",
     "name": "stdout",
     "text": [
      "PKXGKRUFDY45SB8IVZ0C\n"
     ]
    }
   ],
   "source": [
    "# Set Alpaca API key and secret\n",
    "alpaca_api_key = os.getenv(\"ALPACA_API_KEY\")\n",
    "alpaca_secret_key = os.getenv(\"ALPACA_SECRET_KEY\")\n",
    "print(alpaca_api_key)"
   ]
  },
  {
   "cell_type": "code",
   "execution_count": 19,
   "metadata": {},
   "outputs": [],
   "source": [
    "# Create the Alpaca API object, specifying use of the paper trading account:\n",
    "ALPACA_API_BASE_URL = \"https://paper-api.alpaca.markets\"\n",
    "api = tradeapi.REST(alpaca_api_key, alpaca_secret_key,ALPACA_API_BASE_URL, api_version='v2')"
   ]
  },
  {
   "cell_type": "markdown",
   "metadata": {},
   "source": [
    "### Data Generation\n",
    "\n"
   ]
  },
  {
   "cell_type": "markdown",
   "metadata": {},
   "source": [
    "#### 1. Create a ticker list, beginning and end dates, and timeframe interval.\n"
   ]
  },
  {
   "cell_type": "code",
   "execution_count": 20,
   "metadata": {},
   "outputs": [],
   "source": [
    "# Define a list of tickers\n",
    "ticker_list = ['FB','AMZN','AAPL','NFLX', 'GOOGL', 'MSFT', 'TSLA']\n",
    "# declare begin and end date strings\n",
    "beg_date = '2021-01-05'\n",
    "end_date = '2021-01-05'\n",
    "# we convert begin and end date to formats that the ALPACA API requires\n",
    "start =  pd.Timestamp(f'{beg_date} 09:30:00-0400', tz='America/New_York').replace(hour=9, minute=30, second=0).astimezone('GMT').isoformat()[:-6]+'Z'\n",
    "end   =  pd.Timestamp(f'{end_date} 16:00:00-0400', tz='America/New_York').replace(hour=16, minute=0, second=0).astimezone('GMT').isoformat()[:-6]+'Z'\n",
    "# We set the time frequency at which we want to pull prices\n",
    "timeframe='1Min'"
   ]
  },
  {
   "cell_type": "markdown",
   "metadata": {},
   "source": [
    "#### 2. Ping the Alpaca API for the data and store it in a DataFrame called `prices` by using the `get_barset` function combined with the `df` method from the Alpaca Trade SDK."
   ]
  },
  {
   "cell_type": "code",
   "execution_count": 21,
   "metadata": {},
   "outputs": [],
   "source": [
    "# Pull prices from the ALPACA API\n",
    "prices = api.get_barset(ticker_list, timeframe,limit=1000, start=start, end=end).df"
   ]
  },
  {
   "cell_type": "markdown",
   "metadata": {},
   "source": [
    "#### 3. Store only the close prices from the `prices` DataFrame in a new DataFrame called `df_closing_prices`, then view the head and tail to confirm the following:\n",
    "* First price for each stock on the open at 9:30 Eastern Time.\n",
    "* Last price for the day on the close at 3:59 pm Eastern Time."
   ]
  },
  {
   "cell_type": "code",
   "execution_count": 22,
   "metadata": {},
   "outputs": [],
   "source": [
    "# Create an empty DataFrame for closing prices\n",
    "df_closing_prices = pd.DataFrame()\n",
    "\n",
    "# Fetch the closing prices for each one of the tickers and store in a column named after that ticker\n",
    "df_closing_prices[\"FB\"] = prices[\"FB\"][\"close\"]\n",
    "df_closing_prices[\"AMZN\"] = prices[\"AMZN\"][\"close\"]\n",
    "df_closing_prices[\"AAPL\"] = prices[\"AAPL\"][\"close\"]\n",
    "df_closing_prices[\"NFLX\"] = prices[\"NFLX\"][\"close\"]\n",
    "df_closing_prices[\"GOOGL\"] = prices[\"GOOGL\"][\"close\"]\n",
    "df_closing_prices['MSFT'] = prices['MSFT'][\"close\"]\n",
    "df_closing_prices['TSLA'] = prices['TSLA'][\"close\"]"
   ]
  },
  {
   "cell_type": "code",
   "execution_count": 23,
   "metadata": {},
   "outputs": [
    {
     "output_type": "execute_result",
     "data": {
      "text/plain": [
       "                               FB      AMZN     AAPL     NFLX    GOOGL  \\\n",
       "time                                                                     \n",
       "2021-01-05 09:30:00-05:00  269.00  3172.980  129.485  521.030  1724.17   \n",
       "2021-01-05 09:31:00-05:00  269.17  3177.810  130.060  521.365  1724.05   \n",
       "2021-01-05 09:32:00-05:00  269.72  3175.470  130.020  520.770  1721.61   \n",
       "2021-01-05 09:33:00-05:00  268.80  3179.360  130.120  520.000      NaN   \n",
       "2021-01-05 09:34:00-05:00  269.58  3184.015  130.510  522.240  1720.30   \n",
       "\n",
       "                             MSFT    TSLA  \n",
       "time                                       \n",
       "2021-01-05 09:30:00-05:00  217.65  725.23  \n",
       "2021-01-05 09:31:00-05:00  217.63  723.00  \n",
       "2021-01-05 09:32:00-05:00  217.77  720.57  \n",
       "2021-01-05 09:33:00-05:00  217.72  719.71  \n",
       "2021-01-05 09:34:00-05:00  217.31  724.22  "
      ],
      "text/html": "<div>\n<style scoped>\n    .dataframe tbody tr th:only-of-type {\n        vertical-align: middle;\n    }\n\n    .dataframe tbody tr th {\n        vertical-align: top;\n    }\n\n    .dataframe thead th {\n        text-align: right;\n    }\n</style>\n<table border=\"1\" class=\"dataframe\">\n  <thead>\n    <tr style=\"text-align: right;\">\n      <th></th>\n      <th>FB</th>\n      <th>AMZN</th>\n      <th>AAPL</th>\n      <th>NFLX</th>\n      <th>GOOGL</th>\n      <th>MSFT</th>\n      <th>TSLA</th>\n    </tr>\n    <tr>\n      <th>time</th>\n      <th></th>\n      <th></th>\n      <th></th>\n      <th></th>\n      <th></th>\n      <th></th>\n      <th></th>\n    </tr>\n  </thead>\n  <tbody>\n    <tr>\n      <th>2021-01-05 09:30:00-05:00</th>\n      <td>269.00</td>\n      <td>3172.980</td>\n      <td>129.485</td>\n      <td>521.030</td>\n      <td>1724.17</td>\n      <td>217.65</td>\n      <td>725.23</td>\n    </tr>\n    <tr>\n      <th>2021-01-05 09:31:00-05:00</th>\n      <td>269.17</td>\n      <td>3177.810</td>\n      <td>130.060</td>\n      <td>521.365</td>\n      <td>1724.05</td>\n      <td>217.63</td>\n      <td>723.00</td>\n    </tr>\n    <tr>\n      <th>2021-01-05 09:32:00-05:00</th>\n      <td>269.72</td>\n      <td>3175.470</td>\n      <td>130.020</td>\n      <td>520.770</td>\n      <td>1721.61</td>\n      <td>217.77</td>\n      <td>720.57</td>\n    </tr>\n    <tr>\n      <th>2021-01-05 09:33:00-05:00</th>\n      <td>268.80</td>\n      <td>3179.360</td>\n      <td>130.120</td>\n      <td>520.000</td>\n      <td>NaN</td>\n      <td>217.72</td>\n      <td>719.71</td>\n    </tr>\n    <tr>\n      <th>2021-01-05 09:34:00-05:00</th>\n      <td>269.58</td>\n      <td>3184.015</td>\n      <td>130.510</td>\n      <td>522.240</td>\n      <td>1720.30</td>\n      <td>217.31</td>\n      <td>724.22</td>\n    </tr>\n  </tbody>\n</table>\n</div>"
     },
     "metadata": {},
     "execution_count": 23
    }
   ],
   "source": [
    "# Preview first five rows\n",
    "df_closing_prices.head()"
   ]
  },
  {
   "cell_type": "code",
   "execution_count": 24,
   "metadata": {},
   "outputs": [
    {
     "output_type": "execute_result",
     "data": {
      "text/plain": [
       "                               FB     AMZN     AAPL    NFLX    GOOGL     MSFT  \\\n",
       "time                                                                            \n",
       "2021-01-05 15:56:00-05:00  270.65  3219.84  130.850  519.57  1738.15  217.970   \n",
       "2021-01-05 15:57:00-05:00  270.91  3222.70  131.010  520.46  1738.99  218.175   \n",
       "2021-01-05 15:58:00-05:00  270.88  3221.18  130.990  520.30  1738.84  218.150   \n",
       "2021-01-05 15:59:00-05:00  270.86  3219.67  130.965  520.76  1740.57  218.000   \n",
       "2021-01-05 16:00:00-05:00     NaN      NaN  131.140     NaN      NaN      NaN   \n",
       "\n",
       "                             TSLA  \n",
       "time                               \n",
       "2021-01-05 15:56:00-05:00  733.00  \n",
       "2021-01-05 15:57:00-05:00  734.49  \n",
       "2021-01-05 15:58:00-05:00  734.83  \n",
       "2021-01-05 15:59:00-05:00  735.33  \n",
       "2021-01-05 16:00:00-05:00     NaN  "
      ],
      "text/html": "<div>\n<style scoped>\n    .dataframe tbody tr th:only-of-type {\n        vertical-align: middle;\n    }\n\n    .dataframe tbody tr th {\n        vertical-align: top;\n    }\n\n    .dataframe thead th {\n        text-align: right;\n    }\n</style>\n<table border=\"1\" class=\"dataframe\">\n  <thead>\n    <tr style=\"text-align: right;\">\n      <th></th>\n      <th>FB</th>\n      <th>AMZN</th>\n      <th>AAPL</th>\n      <th>NFLX</th>\n      <th>GOOGL</th>\n      <th>MSFT</th>\n      <th>TSLA</th>\n    </tr>\n    <tr>\n      <th>time</th>\n      <th></th>\n      <th></th>\n      <th></th>\n      <th></th>\n      <th></th>\n      <th></th>\n      <th></th>\n    </tr>\n  </thead>\n  <tbody>\n    <tr>\n      <th>2021-01-05 15:56:00-05:00</th>\n      <td>270.65</td>\n      <td>3219.84</td>\n      <td>130.850</td>\n      <td>519.57</td>\n      <td>1738.15</td>\n      <td>217.970</td>\n      <td>733.00</td>\n    </tr>\n    <tr>\n      <th>2021-01-05 15:57:00-05:00</th>\n      <td>270.91</td>\n      <td>3222.70</td>\n      <td>131.010</td>\n      <td>520.46</td>\n      <td>1738.99</td>\n      <td>218.175</td>\n      <td>734.49</td>\n    </tr>\n    <tr>\n      <th>2021-01-05 15:58:00-05:00</th>\n      <td>270.88</td>\n      <td>3221.18</td>\n      <td>130.990</td>\n      <td>520.30</td>\n      <td>1738.84</td>\n      <td>218.150</td>\n      <td>734.83</td>\n    </tr>\n    <tr>\n      <th>2021-01-05 15:59:00-05:00</th>\n      <td>270.86</td>\n      <td>3219.67</td>\n      <td>130.965</td>\n      <td>520.76</td>\n      <td>1740.57</td>\n      <td>218.000</td>\n      <td>735.33</td>\n    </tr>\n    <tr>\n      <th>2021-01-05 16:00:00-05:00</th>\n      <td>NaN</td>\n      <td>NaN</td>\n      <td>131.140</td>\n      <td>NaN</td>\n      <td>NaN</td>\n      <td>NaN</td>\n      <td>NaN</td>\n    </tr>\n  </tbody>\n</table>\n</div>"
     },
     "metadata": {},
     "execution_count": 24
    }
   ],
   "source": [
    "# Preview last five rows\n",
    "df_closing_prices.tail()"
   ]
  },
  {
   "cell_type": "markdown",
   "metadata": {},
   "source": [
    "#### 4. When viewing the head and tail, you'll notice several `NaN` values.\n",
    "* Alpaca reports `NaN` for minutes without any trades occuring as missing.\n",
    "* These values must be removed, we use Panda's `ffill()` function to \"forward fill\", or replace, those prices with the previous values (since the price has not changed).\n"
   ]
  },
  {
   "cell_type": "code",
   "execution_count": 25,
   "metadata": {},
   "outputs": [
    {
     "output_type": "execute_result",
     "data": {
      "text/plain": [
       "                               FB      AMZN     AAPL     NFLX    GOOGL  \\\n",
       "time                                                                     \n",
       "2021-01-05 09:30:00-05:00  269.00  3172.980  129.485  521.030  1724.17   \n",
       "2021-01-05 09:31:00-05:00  269.17  3177.810  130.060  521.365  1724.05   \n",
       "2021-01-05 09:32:00-05:00  269.72  3175.470  130.020  520.770  1721.61   \n",
       "2021-01-05 09:33:00-05:00  268.80  3179.360  130.120  520.000  1721.61   \n",
       "2021-01-05 09:34:00-05:00  269.58  3184.015  130.510  522.240  1720.30   \n",
       "\n",
       "                             MSFT    TSLA  \n",
       "time                                       \n",
       "2021-01-05 09:30:00-05:00  217.65  725.23  \n",
       "2021-01-05 09:31:00-05:00  217.63  723.00  \n",
       "2021-01-05 09:32:00-05:00  217.77  720.57  \n",
       "2021-01-05 09:33:00-05:00  217.72  719.71  \n",
       "2021-01-05 09:34:00-05:00  217.31  724.22  "
      ],
      "text/html": "<div>\n<style scoped>\n    .dataframe tbody tr th:only-of-type {\n        vertical-align: middle;\n    }\n\n    .dataframe tbody tr th {\n        vertical-align: top;\n    }\n\n    .dataframe thead th {\n        text-align: right;\n    }\n</style>\n<table border=\"1\" class=\"dataframe\">\n  <thead>\n    <tr style=\"text-align: right;\">\n      <th></th>\n      <th>FB</th>\n      <th>AMZN</th>\n      <th>AAPL</th>\n      <th>NFLX</th>\n      <th>GOOGL</th>\n      <th>MSFT</th>\n      <th>TSLA</th>\n    </tr>\n    <tr>\n      <th>time</th>\n      <th></th>\n      <th></th>\n      <th></th>\n      <th></th>\n      <th></th>\n      <th></th>\n      <th></th>\n    </tr>\n  </thead>\n  <tbody>\n    <tr>\n      <th>2021-01-05 09:30:00-05:00</th>\n      <td>269.00</td>\n      <td>3172.980</td>\n      <td>129.485</td>\n      <td>521.030</td>\n      <td>1724.17</td>\n      <td>217.65</td>\n      <td>725.23</td>\n    </tr>\n    <tr>\n      <th>2021-01-05 09:31:00-05:00</th>\n      <td>269.17</td>\n      <td>3177.810</td>\n      <td>130.060</td>\n      <td>521.365</td>\n      <td>1724.05</td>\n      <td>217.63</td>\n      <td>723.00</td>\n    </tr>\n    <tr>\n      <th>2021-01-05 09:32:00-05:00</th>\n      <td>269.72</td>\n      <td>3175.470</td>\n      <td>130.020</td>\n      <td>520.770</td>\n      <td>1721.61</td>\n      <td>217.77</td>\n      <td>720.57</td>\n    </tr>\n    <tr>\n      <th>2021-01-05 09:33:00-05:00</th>\n      <td>268.80</td>\n      <td>3179.360</td>\n      <td>130.120</td>\n      <td>520.000</td>\n      <td>1721.61</td>\n      <td>217.72</td>\n      <td>719.71</td>\n    </tr>\n    <tr>\n      <th>2021-01-05 09:34:00-05:00</th>\n      <td>269.58</td>\n      <td>3184.015</td>\n      <td>130.510</td>\n      <td>522.240</td>\n      <td>1720.30</td>\n      <td>217.31</td>\n      <td>724.22</td>\n    </tr>\n  </tbody>\n</table>\n</div>"
     },
     "metadata": {},
     "execution_count": 25
    }
   ],
   "source": [
    "# Use Pandas' forward fill function to fill missing values (be sure to set inplace=True)\n",
    "df_closing_prices.ffill(inplace=True)   \n",
    "df_closing_prices.head()"
   ]
  }
 ],
 "metadata": {
  "kernelspec": {
   "name": "python3710jvsc74a57bd02afbde246bec1fffd9f2d29b06b61e8107bfff663a4502f16e9a7b671e26085a",
   "display_name": "Python 3.7.10 64-bit ('algotrading': conda)"
  },
  "language_info": {
   "codemirror_mode": {
    "name": "ipython",
    "version": 3
   },
   "file_extension": ".py",
   "mimetype": "text/x-python",
   "name": "python",
   "nbconvert_exporter": "python",
   "pygments_lexer": "ipython3",
   "version": "3.7.10"
  }
 },
 "nbformat": 4,
 "nbformat_minor": 4
}